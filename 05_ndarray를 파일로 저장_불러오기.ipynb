{
 "cells": [
  {
   "cell_type": "markdown",
   "metadata": {},
   "source": [
    "# 배열을 파일에 저장 및 불러오기\n",
    "- ## 바이너리 파일로 저장/불러오기\n",
    "    - ### np.save(\"파일경로\", 배열)\n",
    "        - 배열을 raw 바이너리 형식으로 저장 (압축하지 않은)\n",
    "        - 파일명에 확장자로 npy를 붙임 (무조건 붙임 abc.xxx 해도 abc.xxx.npy 로 저장)\n",
    "    - ### np.load(\"파일경로\") \n",
    "        - 파일에 저장된 배열을 불러오기\n",
    "    - ### np.savez(\"파일경로\", 이름=배열, 이름=배열, ...)\n",
    "        - 여러개의 배열을 저장할 때 사용\n",
    "        - 파일명에 확장자로 npz가 붙음\n",
    "        - 내부적으로 압축해서 저장\n",
    "        - load() 함수로 불러오면 저장된 배열목록이 반환 된다. 저장시 지정한 이름을 이용해 조회 \n",
    "- ## 텍스트 파일로 저장하고 불러오기\n",
    "    - ### savetxt(\"파일경로\", 배열 [, delimiter='공백') \n",
    "        - 텍스트 형태로 저장\n",
    "        - 각 원소는 공백을 기준으로 나뉘며 delimiter 속성으로 구분자를 지정가능 (delimiter생략시 공백)\n",
    "        - 1차원과 2차원 배열만 저장 가능 (3차원 이상은 저장 불가)\n",
    "    - ### loadtxt(\"파일경로\" [,dtype=float, delimiter=공백)"
   ]
  },
  {
   "cell_type": "code",
   "execution_count": 1,
   "metadata": {},
   "outputs": [],
   "source": [
    "import numpy as np"
   ]
  },
  {
   "cell_type": "code",
   "execution_count": 2,
   "metadata": {},
   "outputs": [
    {
     "name": "stdout",
     "output_type": "stream",
     "text": [
      "(5,) (5, 10) (3, 4, 2)\n"
     ]
    }
   ],
   "source": [
    "a = np.array([1, 5, 8, 9, 10]) # 1차원\n",
    "b = np.random.normal(size=(5,10)) # 2차원\n",
    "c = np.ones(shape=(3, 4, 2)) # 3차원 \n",
    "print(a.shape, b.shape, c.shape)"
   ]
  },
  {
   "cell_type": "code",
   "execution_count": 3,
   "metadata": {},
   "outputs": [],
   "source": [
    "# 저장 - binary 형식\n",
    "import os\n",
    "# 저장할 디렉토리가 없는 경우 새로 생성\n",
    "save_dir = 'save_data'\n",
    "if not os.path.isdir(save_dir): # 디렉토리 유무확인\n",
    "    os.mkdir(save_dir) # 디렉토리 생성\n",
    "    \n",
    "np.save('save_data/a', a) # a배열을 save_data/a.npy로 저장\n",
    "np.save('save_data/b', b) # b배열을 save_data/b.npy로 저장\n",
    "np.save('save_data/c', c) # c배열을 save_data/c.npy로 저장"
   ]
  },
  {
   "cell_type": "code",
   "execution_count": 4,
   "metadata": {},
   "outputs": [
    {
     "name": "stdout",
     "output_type": "stream",
     "text": [
      "[ 1  5  8  9 10]\n",
      "--------------------\n",
      "[[-0.66280568 -0.47096807  0.22561768 -1.04617192  0.7383947  -1.03382219\n",
      "   0.35677394 -0.21659241 -0.70515617 -0.30316389]\n",
      " [ 0.94634794  1.08653257  0.5871669  -0.08584565 -0.4219474   0.45693989\n",
      "  -0.45819309 -0.86610361 -0.90128871 -1.36280905]\n",
      " [-0.79376331  0.04986632 -0.07642652  0.53623186  0.81505118  0.73838202\n",
      "  -0.2489301  -0.28261793  0.79485771 -0.87212444]\n",
      " [-0.12152128 -1.26836659 -0.92585965 -1.20309212  0.96513725  1.22387413\n",
      "  -0.11198889 -1.17087882  1.00641888 -0.22424133]\n",
      " [-0.29038945  0.20921193  1.47712692  0.30394688 -1.07743073 -0.51711237\n",
      "   1.35619319  1.57105273  1.12669418 -0.08767327]]\n",
      "--------------------\n",
      "[[[1. 1.]\n",
      "  [1. 1.]\n",
      "  [1. 1.]\n",
      "  [1. 1.]]\n",
      "\n",
      " [[1. 1.]\n",
      "  [1. 1.]\n",
      "  [1. 1.]\n",
      "  [1. 1.]]\n",
      "\n",
      " [[1. 1.]\n",
      "  [1. 1.]\n",
      "  [1. 1.]\n",
      "  [1. 1.]]]\n"
     ]
    }
   ],
   "source": [
    "# binary 저장된 배열 불러오기\n",
    "a2 = np.load('save_data/a.npy')\n",
    "b2 = np.load('save_data/b.npy')\n",
    "c2 = np.load('save_data/c.npy')\n",
    "print(a2)\n",
    "print('-' * 20)\n",
    "print(b2)\n",
    "print('-' * 20)\n",
    "print(c2)"
   ]
  },
  {
   "cell_type": "code",
   "execution_count": 5,
   "metadata": {},
   "outputs": [],
   "source": [
    "# 다수의 배열을 한 파일에 저장\n",
    "np.savez('save_data/all', arr_a=a, arr_b=b, arr_c=c)"
   ]
  },
  {
   "cell_type": "code",
   "execution_count": 6,
   "metadata": {},
   "outputs": [],
   "source": [
    "# npz 파일 읽어오기\n",
    "arr_all = np.load('save_data/all.npz')"
   ]
  },
  {
   "cell_type": "code",
   "execution_count": 7,
   "metadata": {},
   "outputs": [
    {
     "data": {
      "text/plain": [
       "['arr_a', 'arr_b', 'arr_c']"
      ]
     },
     "execution_count": 7,
     "metadata": {},
     "output_type": "execute_result"
    }
   ],
   "source": [
    "# 저장 시 저정 이름 조회\n",
    "arr_all.files"
   ]
  },
  {
   "cell_type": "code",
   "execution_count": 8,
   "metadata": {},
   "outputs": [
    {
     "name": "stdout",
     "output_type": "stream",
     "text": [
      "[ 1  5  8  9 10]\n",
      "--------------------\n",
      "[[-0.66280568 -0.47096807  0.22561768 -1.04617192  0.7383947  -1.03382219\n",
      "   0.35677394 -0.21659241 -0.70515617 -0.30316389]\n",
      " [ 0.94634794  1.08653257  0.5871669  -0.08584565 -0.4219474   0.45693989\n",
      "  -0.45819309 -0.86610361 -0.90128871 -1.36280905]\n",
      " [-0.79376331  0.04986632 -0.07642652  0.53623186  0.81505118  0.73838202\n",
      "  -0.2489301  -0.28261793  0.79485771 -0.87212444]\n",
      " [-0.12152128 -1.26836659 -0.92585965 -1.20309212  0.96513725  1.22387413\n",
      "  -0.11198889 -1.17087882  1.00641888 -0.22424133]\n",
      " [-0.29038945  0.20921193  1.47712692  0.30394688 -1.07743073 -0.51711237\n",
      "   1.35619319  1.57105273  1.12669418 -0.08767327]]\n",
      "--------------------\n",
      "[[[1. 1.]\n",
      "  [1. 1.]\n",
      "  [1. 1.]\n",
      "  [1. 1.]]\n",
      "\n",
      " [[1. 1.]\n",
      "  [1. 1.]\n",
      "  [1. 1.]\n",
      "  [1. 1.]]\n",
      "\n",
      " [[1. 1.]\n",
      "  [1. 1.]\n",
      "  [1. 1.]\n",
      "  [1. 1.]]]\n"
     ]
    }
   ],
   "source": [
    "a3 = arr_all['arr_a']\n",
    "b3 = arr_all['arr_b']\n",
    "c3 = arr_all['arr_c']\n",
    "print(a3)\n",
    "print('-' * 20)\n",
    "print(b3)\n",
    "print('-' * 20)\n",
    "print(c3)"
   ]
  },
  {
   "cell_type": "code",
   "execution_count": 9,
   "metadata": {},
   "outputs": [],
   "source": [
    "# 텍스트 파일로 저장 (1차원, 2차원 배열만 가능)\n",
    "np.savetxt('save_data/a_txt.csv', a, delimiter=',')\n",
    "np.savetxt('save_data/b_txt.csv', b, delimiter=',')"
   ]
  },
  {
   "cell_type": "code",
   "execution_count": 10,
   "metadata": {},
   "outputs": [
    {
     "name": "stdout",
     "output_type": "stream",
     "text": [
      "[ 1.  5.  8.  9. 10.]\n",
      "--------------------\n",
      "[[-0.66280568 -0.47096807  0.22561768 -1.04617192  0.7383947  -1.03382219\n",
      "   0.35677394 -0.21659241 -0.70515617 -0.30316389]\n",
      " [ 0.94634794  1.08653257  0.5871669  -0.08584565 -0.4219474   0.45693989\n",
      "  -0.45819309 -0.86610361 -0.90128871 -1.36280905]\n",
      " [-0.79376331  0.04986632 -0.07642652  0.53623186  0.81505118  0.73838202\n",
      "  -0.2489301  -0.28261793  0.79485771 -0.87212444]\n",
      " [-0.12152128 -1.26836659 -0.92585965 -1.20309212  0.96513725  1.22387413\n",
      "  -0.11198889 -1.17087882  1.00641888 -0.22424133]\n",
      " [-0.29038945  0.20921193  1.47712692  0.30394688 -1.07743073 -0.51711237\n",
      "   1.35619319  1.57105273  1.12669418 -0.08767327]]\n"
     ]
    }
   ],
   "source": [
    "# 저장된 텍스트 파일 불러오기\n",
    "a4 = np.loadtxt('save_data/a_txt.csv', delimiter=',')\n",
    "b4 = np.loadtxt('save_data/b_txt.csv', dtype=float, delimiter=',')\n",
    "print(a4)\n",
    "print('-' * 20)\n",
    "print(b4)"
   ]
  },
  {
   "cell_type": "code",
   "execution_count": 11,
   "metadata": {},
   "outputs": [
    {
     "data": {
      "text/html": [
       "<div>\n",
       "<style scoped>\n",
       "    .dataframe tbody tr th:only-of-type {\n",
       "        vertical-align: middle;\n",
       "    }\n",
       "\n",
       "    .dataframe tbody tr th {\n",
       "        vertical-align: top;\n",
       "    }\n",
       "\n",
       "    .dataframe thead th {\n",
       "        text-align: right;\n",
       "    }\n",
       "</style>\n",
       "<table border=\"1\" class=\"dataframe\">\n",
       "  <thead>\n",
       "    <tr style=\"text-align: right;\">\n",
       "      <th></th>\n",
       "      <th>0</th>\n",
       "      <th>1</th>\n",
       "      <th>2</th>\n",
       "      <th>3</th>\n",
       "      <th>4</th>\n",
       "      <th>5</th>\n",
       "      <th>6</th>\n",
       "      <th>7</th>\n",
       "      <th>8</th>\n",
       "      <th>9</th>\n",
       "    </tr>\n",
       "  </thead>\n",
       "  <tbody>\n",
       "    <tr>\n",
       "      <th>0</th>\n",
       "      <td>-0.662806</td>\n",
       "      <td>-0.470968</td>\n",
       "      <td>0.225618</td>\n",
       "      <td>-1.046172</td>\n",
       "      <td>0.738395</td>\n",
       "      <td>-1.033822</td>\n",
       "      <td>0.356774</td>\n",
       "      <td>-0.216592</td>\n",
       "      <td>-0.705156</td>\n",
       "      <td>-0.303164</td>\n",
       "    </tr>\n",
       "    <tr>\n",
       "      <th>1</th>\n",
       "      <td>0.946348</td>\n",
       "      <td>1.086533</td>\n",
       "      <td>0.587167</td>\n",
       "      <td>-0.085846</td>\n",
       "      <td>-0.421947</td>\n",
       "      <td>0.456940</td>\n",
       "      <td>-0.458193</td>\n",
       "      <td>-0.866104</td>\n",
       "      <td>-0.901289</td>\n",
       "      <td>-1.362809</td>\n",
       "    </tr>\n",
       "    <tr>\n",
       "      <th>2</th>\n",
       "      <td>-0.793763</td>\n",
       "      <td>0.049866</td>\n",
       "      <td>-0.076427</td>\n",
       "      <td>0.536232</td>\n",
       "      <td>0.815051</td>\n",
       "      <td>0.738382</td>\n",
       "      <td>-0.248930</td>\n",
       "      <td>-0.282618</td>\n",
       "      <td>0.794858</td>\n",
       "      <td>-0.872124</td>\n",
       "    </tr>\n",
       "    <tr>\n",
       "      <th>3</th>\n",
       "      <td>-0.121521</td>\n",
       "      <td>-1.268367</td>\n",
       "      <td>-0.925860</td>\n",
       "      <td>-1.203092</td>\n",
       "      <td>0.965137</td>\n",
       "      <td>1.223874</td>\n",
       "      <td>-0.111989</td>\n",
       "      <td>-1.170879</td>\n",
       "      <td>1.006419</td>\n",
       "      <td>-0.224241</td>\n",
       "    </tr>\n",
       "    <tr>\n",
       "      <th>4</th>\n",
       "      <td>-0.290389</td>\n",
       "      <td>0.209212</td>\n",
       "      <td>1.477127</td>\n",
       "      <td>0.303947</td>\n",
       "      <td>-1.077431</td>\n",
       "      <td>-0.517112</td>\n",
       "      <td>1.356193</td>\n",
       "      <td>1.571053</td>\n",
       "      <td>1.126694</td>\n",
       "      <td>-0.087673</td>\n",
       "    </tr>\n",
       "  </tbody>\n",
       "</table>\n",
       "</div>"
      ],
      "text/plain": [
       "          0         1         2         3         4         5         6  \\\n",
       "0 -0.662806 -0.470968  0.225618 -1.046172  0.738395 -1.033822  0.356774   \n",
       "1  0.946348  1.086533  0.587167 -0.085846 -0.421947  0.456940 -0.458193   \n",
       "2 -0.793763  0.049866 -0.076427  0.536232  0.815051  0.738382 -0.248930   \n",
       "3 -0.121521 -1.268367 -0.925860 -1.203092  0.965137  1.223874 -0.111989   \n",
       "4 -0.290389  0.209212  1.477127  0.303947 -1.077431 -0.517112  1.356193   \n",
       "\n",
       "          7         8         9  \n",
       "0 -0.216592 -0.705156 -0.303164  \n",
       "1 -0.866104 -0.901289 -1.362809  \n",
       "2 -0.282618  0.794858 -0.872124  \n",
       "3 -1.170879  1.006419 -0.224241  \n",
       "4  1.571053  1.126694 -0.087673  "
      ]
     },
     "execution_count": 11,
     "metadata": {},
     "output_type": "execute_result"
    }
   ],
   "source": [
    "# pandas로 불러오기 가능\n",
    "import pandas as pd\n",
    "df = pd.read_csv('save_data/b_txt.csv', header=None)\n",
    "df"
   ]
  }
 ],
 "metadata": {
  "kernelspec": {
   "display_name": "Python 3 (ipykernel)",
   "language": "python",
   "name": "python3"
  },
  "language_info": {
   "codemirror_mode": {
    "name": "ipython",
    "version": 3
   },
   "file_extension": ".py",
   "mimetype": "text/x-python",
   "name": "python",
   "nbconvert_exporter": "python",
   "pygments_lexer": "ipython3",
   "version": "3.8.13"
  },
  "toc": {
   "base_numbering": 1,
   "nav_menu": {},
   "number_sections": true,
   "sideBar": true,
   "skip_h1_title": false,
   "title_cell": "Table of Contents",
   "title_sidebar": "Contents",
   "toc_cell": false,
   "toc_position": {},
   "toc_section_display": true,
   "toc_window_display": false
  },
  "varInspector": {
   "cols": {
    "lenName": 16,
    "lenType": 16,
    "lenVar": 40
   },
   "kernels_config": {
    "python": {
     "delete_cmd_postfix": "",
     "delete_cmd_prefix": "del ",
     "library": "var_list.py",
     "varRefreshCmd": "print(var_dic_list())"
    },
    "r": {
     "delete_cmd_postfix": ") ",
     "delete_cmd_prefix": "rm(",
     "library": "var_list.r",
     "varRefreshCmd": "cat(var_dic_list()) "
    }
   },
   "types_to_exclude": [
    "module",
    "function",
    "builtin_function_or_method",
    "instance",
    "_Feature"
   ],
   "window_display": false
  }
 },
 "nbformat": 4,
 "nbformat_minor": 2
}
